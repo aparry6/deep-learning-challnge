{
  "nbformat": 4,
  "nbformat_minor": 0,
  "metadata": {
    "colab": {
      "provenance": []
    },
    "kernelspec": {
      "name": "python3",
      "display_name": "Python 3"
    },
    "language_info": {
      "name": "python"
    }
  },
  "cells": [
    {
      "cell_type": "code",
      "execution_count": 20,
      "metadata": {
        "id": "Qc_IVXp5jDfo"
      },
      "outputs": [],
      "source": [
        "# Import necessary libraries\n",
        "import pandas as pd\n",
        "from sklearn.model_selection import train_test_split\n",
        "from sklearn.preprocessing import StandardScaler\n",
        "import tensorflow as tf\n",
        "from tensorflow.keras.models import Sequential\n",
        "from tensorflow.keras.layers import Dense"
      ]
    },
    {
      "cell_type": "code",
      "source": [
        "# Read the data\n",
        "url = \"https://static.bc-edx.com/data/dl-1-2/m21/lms/starter/charity_data.csv\"\n",
        "application_df = pd.read_csv(url)\n"
      ],
      "metadata": {
        "id": "PLdlcr7fjU8y"
      },
      "execution_count": 21,
      "outputs": []
    },
    {
      "cell_type": "code",
      "source": [
        "# Drop the non-beneficial ID columns\n",
        "application_df = application_df.drop(['EIN', 'NAME'], axis=1)"
      ],
      "metadata": {
        "id": "60kzAeJZkrhe"
      },
      "execution_count": 22,
      "outputs": []
    },
    {
      "cell_type": "code",
      "source": [
        "# One-hot encode the categorical columns\n",
        "application_df = pd.get_dummies(application_df, columns=['APPLICATION_TYPE', 'AFFILIATION', 'CLASSIFICATION', 'USE_CASE',\n",
        "                                                         'ORGANIZATION', 'STATUS', 'INCOME_AMT', 'SPECIAL_CONSIDERATIONS'])\n"
      ],
      "metadata": {
        "id": "4spLbVRslH2F"
      },
      "execution_count": 26,
      "outputs": []
    },
    {
      "cell_type": "code",
      "source": [
        "# Define features (X) and target (y)\n",
        "X = application_df.drop('IS_SUCCESSFUL', axis=1)\n",
        "y = application_df['IS_SUCCESSFUL']\n",
        "\n",
        "\n"
      ],
      "metadata": {
        "id": "EiceMGbOjXUP"
      },
      "execution_count": 27,
      "outputs": []
    },
    {
      "cell_type": "code",
      "source": [
        "# Perform train-test split\n",
        "X_train, X_test, y_train, y_test = train_test_split(X, y, random_state=1, stratify=y)\n"
      ],
      "metadata": {
        "id": "eqTNDlJNjiap"
      },
      "execution_count": 24,
      "outputs": []
    },
    {
      "cell_type": "code",
      "source": [
        "# Split the data into training and testing sets\n",
        "X_train, X_test, y_train, y_test = train_test_split(X, y, random_state=1, stratify=y)\n"
      ],
      "metadata": {
        "id": "_0qCiGqgjkjp"
      },
      "execution_count": 28,
      "outputs": []
    },
    {
      "cell_type": "code",
      "source": [
        "# Standardize the data\n",
        "scaler = StandardScaler()\n",
        "X_train_scaled = scaler.fit_transform(X_train)\n",
        "X_test_scaled = scaler.transform(X_test)\n",
        "\n",
        "\n"
      ],
      "metadata": {
        "id": "lV0radn-jmh8"
      },
      "execution_count": 29,
      "outputs": []
    },
    {
      "cell_type": "code",
      "source": [
        "# Create the neural network model\n",
        "nn = Sequential()\n",
        "nn.add(Dense(units=80, activation='relu', input_dim=X_train_scaled.shape[1]))\n",
        "nn.add(Dense(units=30, activation='relu'))\n",
        "nn.add(Dense(units=1, activation='sigmoid'))"
      ],
      "metadata": {
        "id": "KdLZRVOqlRBW"
      },
      "execution_count": 30,
      "outputs": []
    },
    {
      "cell_type": "code",
      "source": [
        "# Compile the model\n",
        "nn.compile(loss='binary_crossentropy', optimizer='adam', metrics=['accuracy'])\n"
      ],
      "metadata": {
        "id": "_XUjquxHleQs"
      },
      "execution_count": 32,
      "outputs": []
    },
    {
      "cell_type": "code",
      "source": [
        "# Create a callback to save model's weights every five epochs\n",
        "checkpoint_path = \"model_checkpoints/cp.ckpt\"\n",
        "checkpoint_callback = tf.keras.callbacks.ModelCheckpoint(filepath=checkpoint_path,\n",
        "                                                         save_weights_only=True,\n",
        "                                                         save_freq='epoch',\n",
        "                                                         verbose=1)\n",
        "\n"
      ],
      "metadata": {
        "id": "yRmeCSWDlhMM"
      },
      "execution_count": 33,
      "outputs": []
    },
    {
      "cell_type": "code",
      "source": [
        "# Train the model\n",
        "nn.fit(X_train_scaled, y_train, epochs=100, callbacks=[checkpoint_callback])\n"
      ],
      "metadata": {
        "colab": {
          "base_uri": "https://localhost:8080/"
        },
        "id": "Gj-TwBazljOv",
        "outputId": "923e6800-9bad-4fac-aaa5-3b302ad903b0"
      },
      "execution_count": 34,
      "outputs": [
        {
          "output_type": "stream",
          "name": "stdout",
          "text": [
            "Epoch 1/100\n",
            "793/804 [============================>.] - ETA: 0s - loss: 0.5750 - accuracy: 0.7199\n",
            "Epoch 1: saving model to model_checkpoints/cp.ckpt\n",
            "804/804 [==============================] - 2s 2ms/step - loss: 0.5747 - accuracy: 0.7200\n",
            "Epoch 2/100\n",
            "795/804 [============================>.] - ETA: 0s - loss: 0.5532 - accuracy: 0.7290\n",
            "Epoch 2: saving model to model_checkpoints/cp.ckpt\n",
            "804/804 [==============================] - 1s 2ms/step - loss: 0.5530 - accuracy: 0.7292\n",
            "Epoch 3/100\n",
            "781/804 [============================>.] - ETA: 0s - loss: 0.5483 - accuracy: 0.7313\n",
            "Epoch 3: saving model to model_checkpoints/cp.ckpt\n",
            "804/804 [==============================] - 1s 2ms/step - loss: 0.5488 - accuracy: 0.7315\n",
            "Epoch 4/100\n",
            "797/804 [============================>.] - ETA: 0s - loss: 0.5465 - accuracy: 0.7329\n",
            "Epoch 4: saving model to model_checkpoints/cp.ckpt\n",
            "804/804 [==============================] - 1s 2ms/step - loss: 0.5470 - accuracy: 0.7325\n",
            "Epoch 5/100\n",
            "797/804 [============================>.] - ETA: 0s - loss: 0.5456 - accuracy: 0.7345\n",
            "Epoch 5: saving model to model_checkpoints/cp.ckpt\n",
            "804/804 [==============================] - 2s 2ms/step - loss: 0.5454 - accuracy: 0.7347\n",
            "Epoch 6/100\n",
            "793/804 [============================>.] - ETA: 0s - loss: 0.5440 - accuracy: 0.7331\n",
            "Epoch 6: saving model to model_checkpoints/cp.ckpt\n",
            "804/804 [==============================] - 2s 3ms/step - loss: 0.5448 - accuracy: 0.7324\n",
            "Epoch 7/100\n",
            "799/804 [============================>.] - ETA: 0s - loss: 0.5435 - accuracy: 0.7336\n",
            "Epoch 7: saving model to model_checkpoints/cp.ckpt\n",
            "804/804 [==============================] - 2s 2ms/step - loss: 0.5437 - accuracy: 0.7335\n",
            "Epoch 8/100\n",
            "790/804 [============================>.] - ETA: 0s - loss: 0.5427 - accuracy: 0.7339\n",
            "Epoch 8: saving model to model_checkpoints/cp.ckpt\n",
            "804/804 [==============================] - 1s 2ms/step - loss: 0.5426 - accuracy: 0.7339\n",
            "Epoch 9/100\n",
            "777/804 [===========================>..] - ETA: 0s - loss: 0.5415 - accuracy: 0.7338\n",
            "Epoch 9: saving model to model_checkpoints/cp.ckpt\n",
            "804/804 [==============================] - 1s 2ms/step - loss: 0.5418 - accuracy: 0.7339\n",
            "Epoch 10/100\n",
            "790/804 [============================>.] - ETA: 0s - loss: 0.5413 - accuracy: 0.7357\n",
            "Epoch 10: saving model to model_checkpoints/cp.ckpt\n",
            "804/804 [==============================] - 1s 2ms/step - loss: 0.5413 - accuracy: 0.7353\n",
            "Epoch 11/100\n",
            "792/804 [============================>.] - ETA: 0s - loss: 0.5398 - accuracy: 0.7347\n",
            "Epoch 11: saving model to model_checkpoints/cp.ckpt\n",
            "804/804 [==============================] - 1s 2ms/step - loss: 0.5404 - accuracy: 0.7346\n",
            "Epoch 12/100\n",
            "786/804 [============================>.] - ETA: 0s - loss: 0.5398 - accuracy: 0.7356\n",
            "Epoch 12: saving model to model_checkpoints/cp.ckpt\n",
            "804/804 [==============================] - 1s 2ms/step - loss: 0.5401 - accuracy: 0.7353\n",
            "Epoch 13/100\n",
            "795/804 [============================>.] - ETA: 0s - loss: 0.5398 - accuracy: 0.7355\n",
            "Epoch 13: saving model to model_checkpoints/cp.ckpt\n",
            "804/804 [==============================] - 1s 2ms/step - loss: 0.5401 - accuracy: 0.7352\n",
            "Epoch 14/100\n",
            "804/804 [==============================] - ETA: 0s - loss: 0.5390 - accuracy: 0.7361\n",
            "Epoch 14: saving model to model_checkpoints/cp.ckpt\n",
            "804/804 [==============================] - 2s 3ms/step - loss: 0.5390 - accuracy: 0.7361\n",
            "Epoch 15/100\n",
            "785/804 [============================>.] - ETA: 0s - loss: 0.5383 - accuracy: 0.7357\n",
            "Epoch 15: saving model to model_checkpoints/cp.ckpt\n",
            "804/804 [==============================] - 2s 2ms/step - loss: 0.5384 - accuracy: 0.7358\n",
            "Epoch 16/100\n",
            "796/804 [============================>.] - ETA: 0s - loss: 0.5385 - accuracy: 0.7365\n",
            "Epoch 16: saving model to model_checkpoints/cp.ckpt\n",
            "804/804 [==============================] - 1s 2ms/step - loss: 0.5385 - accuracy: 0.7365\n",
            "Epoch 17/100\n",
            "788/804 [============================>.] - ETA: 0s - loss: 0.5370 - accuracy: 0.7361\n",
            "Epoch 17: saving model to model_checkpoints/cp.ckpt\n",
            "804/804 [==============================] - 2s 2ms/step - loss: 0.5375 - accuracy: 0.7360\n",
            "Epoch 18/100\n",
            "776/804 [===========================>..] - ETA: 0s - loss: 0.5376 - accuracy: 0.7363\n",
            "Epoch 18: saving model to model_checkpoints/cp.ckpt\n",
            "804/804 [==============================] - 1s 2ms/step - loss: 0.5372 - accuracy: 0.7368\n",
            "Epoch 19/100\n",
            "775/804 [===========================>..] - ETA: 0s - loss: 0.5371 - accuracy: 0.7373\n",
            "Epoch 19: saving model to model_checkpoints/cp.ckpt\n",
            "804/804 [==============================] - 1s 2ms/step - loss: 0.5374 - accuracy: 0.7370\n",
            "Epoch 20/100\n",
            "802/804 [============================>.] - ETA: 0s - loss: 0.5364 - accuracy: 0.7376\n",
            "Epoch 20: saving model to model_checkpoints/cp.ckpt\n",
            "804/804 [==============================] - 1s 2ms/step - loss: 0.5366 - accuracy: 0.7375\n",
            "Epoch 21/100\n",
            "792/804 [============================>.] - ETA: 0s - loss: 0.5372 - accuracy: 0.7380\n",
            "Epoch 21: saving model to model_checkpoints/cp.ckpt\n",
            "804/804 [==============================] - 1s 2ms/step - loss: 0.5369 - accuracy: 0.7380\n",
            "Epoch 22/100\n",
            "794/804 [============================>.] - ETA: 0s - loss: 0.5363 - accuracy: 0.7368\n",
            "Epoch 22: saving model to model_checkpoints/cp.ckpt\n",
            "804/804 [==============================] - 2s 2ms/step - loss: 0.5363 - accuracy: 0.7368\n",
            "Epoch 23/100\n",
            "797/804 [============================>.] - ETA: 0s - loss: 0.5363 - accuracy: 0.7375\n",
            "Epoch 23: saving model to model_checkpoints/cp.ckpt\n",
            "804/804 [==============================] - 2s 2ms/step - loss: 0.5363 - accuracy: 0.7377\n",
            "Epoch 24/100\n",
            "795/804 [============================>.] - ETA: 0s - loss: 0.5356 - accuracy: 0.7382\n",
            "Epoch 24: saving model to model_checkpoints/cp.ckpt\n",
            "804/804 [==============================] - 1s 2ms/step - loss: 0.5356 - accuracy: 0.7383\n",
            "Epoch 25/100\n",
            "776/804 [===========================>..] - ETA: 0s - loss: 0.5359 - accuracy: 0.7381\n",
            "Epoch 25: saving model to model_checkpoints/cp.ckpt\n",
            "804/804 [==============================] - 1s 2ms/step - loss: 0.5359 - accuracy: 0.7386\n",
            "Epoch 26/100\n",
            "797/804 [============================>.] - ETA: 0s - loss: 0.5351 - accuracy: 0.7380\n",
            "Epoch 26: saving model to model_checkpoints/cp.ckpt\n",
            "804/804 [==============================] - 1s 2ms/step - loss: 0.5350 - accuracy: 0.7381\n",
            "Epoch 27/100\n",
            "787/804 [============================>.] - ETA: 0s - loss: 0.5350 - accuracy: 0.7382\n",
            "Epoch 27: saving model to model_checkpoints/cp.ckpt\n",
            "804/804 [==============================] - 1s 2ms/step - loss: 0.5351 - accuracy: 0.7381\n",
            "Epoch 28/100\n",
            "787/804 [============================>.] - ETA: 0s - loss: 0.5337 - accuracy: 0.7390\n",
            "Epoch 28: saving model to model_checkpoints/cp.ckpt\n",
            "804/804 [==============================] - 1s 2ms/step - loss: 0.5340 - accuracy: 0.7383\n",
            "Epoch 29/100\n",
            "789/804 [============================>.] - ETA: 0s - loss: 0.5340 - accuracy: 0.7391\n",
            "Epoch 29: saving model to model_checkpoints/cp.ckpt\n",
            "804/804 [==============================] - 1s 2ms/step - loss: 0.5348 - accuracy: 0.7385\n",
            "Epoch 30/100\n",
            "801/804 [============================>.] - ETA: 0s - loss: 0.5346 - accuracy: 0.7379\n",
            "Epoch 30: saving model to model_checkpoints/cp.ckpt\n",
            "804/804 [==============================] - 2s 2ms/step - loss: 0.5345 - accuracy: 0.7378\n",
            "Epoch 31/100\n",
            "800/804 [============================>.] - ETA: 0s - loss: 0.5338 - accuracy: 0.7384\n",
            "Epoch 31: saving model to model_checkpoints/cp.ckpt\n",
            "804/804 [==============================] - 2s 3ms/step - loss: 0.5337 - accuracy: 0.7383\n",
            "Epoch 32/100\n",
            "795/804 [============================>.] - ETA: 0s - loss: 0.5334 - accuracy: 0.7397\n",
            "Epoch 32: saving model to model_checkpoints/cp.ckpt\n",
            "804/804 [==============================] - 1s 2ms/step - loss: 0.5337 - accuracy: 0.7393\n",
            "Epoch 33/100\n",
            "784/804 [============================>.] - ETA: 0s - loss: 0.5341 - accuracy: 0.7392\n",
            "Epoch 33: saving model to model_checkpoints/cp.ckpt\n",
            "804/804 [==============================] - 2s 3ms/step - loss: 0.5338 - accuracy: 0.7394\n",
            "Epoch 34/100\n",
            "785/804 [============================>.] - ETA: 0s - loss: 0.5343 - accuracy: 0.7393\n",
            "Epoch 34: saving model to model_checkpoints/cp.ckpt\n",
            "804/804 [==============================] - 2s 2ms/step - loss: 0.5337 - accuracy: 0.7400\n",
            "Epoch 35/100\n",
            "782/804 [============================>.] - ETA: 0s - loss: 0.5336 - accuracy: 0.7390\n",
            "Epoch 35: saving model to model_checkpoints/cp.ckpt\n",
            "804/804 [==============================] - 1s 2ms/step - loss: 0.5334 - accuracy: 0.7391\n",
            "Epoch 36/100\n",
            "785/804 [============================>.] - ETA: 0s - loss: 0.5322 - accuracy: 0.7400\n",
            "Epoch 36: saving model to model_checkpoints/cp.ckpt\n",
            "804/804 [==============================] - 1s 2ms/step - loss: 0.5330 - accuracy: 0.7397\n",
            "Epoch 37/100\n",
            "781/804 [============================>.] - ETA: 0s - loss: 0.5319 - accuracy: 0.7412\n",
            "Epoch 37: saving model to model_checkpoints/cp.ckpt\n",
            "804/804 [==============================] - 1s 2ms/step - loss: 0.5327 - accuracy: 0.7407\n",
            "Epoch 38/100\n",
            "804/804 [==============================] - ETA: 0s - loss: 0.5326 - accuracy: 0.7393\n",
            "Epoch 38: saving model to model_checkpoints/cp.ckpt\n",
            "804/804 [==============================] - 2s 2ms/step - loss: 0.5326 - accuracy: 0.7393\n",
            "Epoch 39/100\n",
            "788/804 [============================>.] - ETA: 0s - loss: 0.5322 - accuracy: 0.7402\n",
            "Epoch 39: saving model to model_checkpoints/cp.ckpt\n",
            "804/804 [==============================] - 2s 2ms/step - loss: 0.5325 - accuracy: 0.7397\n",
            "Epoch 40/100\n",
            "778/804 [============================>.] - ETA: 0s - loss: 0.5318 - accuracy: 0.7396\n",
            "Epoch 40: saving model to model_checkpoints/cp.ckpt\n",
            "804/804 [==============================] - 1s 2ms/step - loss: 0.5321 - accuracy: 0.7393\n",
            "Epoch 41/100\n",
            "796/804 [============================>.] - ETA: 0s - loss: 0.5328 - accuracy: 0.7395\n",
            "Epoch 41: saving model to model_checkpoints/cp.ckpt\n",
            "804/804 [==============================] - 1s 2ms/step - loss: 0.5325 - accuracy: 0.7397\n",
            "Epoch 42/100\n",
            "799/804 [============================>.] - ETA: 0s - loss: 0.5325 - accuracy: 0.7393\n",
            "Epoch 42: saving model to model_checkpoints/cp.ckpt\n",
            "804/804 [==============================] - 1s 2ms/step - loss: 0.5325 - accuracy: 0.7394\n",
            "Epoch 43/100\n",
            "788/804 [============================>.] - ETA: 0s - loss: 0.5325 - accuracy: 0.7397\n",
            "Epoch 43: saving model to model_checkpoints/cp.ckpt\n",
            "804/804 [==============================] - 1s 2ms/step - loss: 0.5325 - accuracy: 0.7397\n",
            "Epoch 44/100\n",
            "778/804 [============================>.] - ETA: 0s - loss: 0.5315 - accuracy: 0.7418\n",
            "Epoch 44: saving model to model_checkpoints/cp.ckpt\n",
            "804/804 [==============================] - 1s 2ms/step - loss: 0.5317 - accuracy: 0.7414\n",
            "Epoch 45/100\n",
            "798/804 [============================>.] - ETA: 0s - loss: 0.5319 - accuracy: 0.7401\n",
            "Epoch 45: saving model to model_checkpoints/cp.ckpt\n",
            "804/804 [==============================] - 1s 2ms/step - loss: 0.5318 - accuracy: 0.7404\n",
            "Epoch 46/100\n",
            "787/804 [============================>.] - ETA: 0s - loss: 0.5319 - accuracy: 0.7403\n",
            "Epoch 46: saving model to model_checkpoints/cp.ckpt\n",
            "804/804 [==============================] - 2s 2ms/step - loss: 0.5313 - accuracy: 0.7406\n",
            "Epoch 47/100\n",
            "804/804 [==============================] - ETA: 0s - loss: 0.5314 - accuracy: 0.7410\n",
            "Epoch 47: saving model to model_checkpoints/cp.ckpt\n",
            "804/804 [==============================] - 2s 3ms/step - loss: 0.5314 - accuracy: 0.7410\n",
            "Epoch 48/100\n",
            "791/804 [============================>.] - ETA: 0s - loss: 0.5312 - accuracy: 0.7411\n",
            "Epoch 48: saving model to model_checkpoints/cp.ckpt\n",
            "804/804 [==============================] - 2s 2ms/step - loss: 0.5311 - accuracy: 0.7413\n",
            "Epoch 49/100\n",
            "779/804 [============================>.] - ETA: 0s - loss: 0.5310 - accuracy: 0.7399\n",
            "Epoch 49: saving model to model_checkpoints/cp.ckpt\n",
            "804/804 [==============================] - 1s 2ms/step - loss: 0.5314 - accuracy: 0.7400\n",
            "Epoch 50/100\n",
            "788/804 [============================>.] - ETA: 0s - loss: 0.5315 - accuracy: 0.7403\n",
            "Epoch 50: saving model to model_checkpoints/cp.ckpt\n",
            "804/804 [==============================] - 1s 2ms/step - loss: 0.5312 - accuracy: 0.7405\n",
            "Epoch 51/100\n",
            "788/804 [============================>.] - ETA: 0s - loss: 0.5309 - accuracy: 0.7406\n",
            "Epoch 51: saving model to model_checkpoints/cp.ckpt\n",
            "804/804 [==============================] - 1s 2ms/step - loss: 0.5309 - accuracy: 0.7404\n",
            "Epoch 52/100\n",
            "788/804 [============================>.] - ETA: 0s - loss: 0.5298 - accuracy: 0.7409\n",
            "Epoch 52: saving model to model_checkpoints/cp.ckpt\n",
            "804/804 [==============================] - 1s 2ms/step - loss: 0.5306 - accuracy: 0.7405\n",
            "Epoch 53/100\n",
            "803/804 [============================>.] - ETA: 0s - loss: 0.5304 - accuracy: 0.7407\n",
            "Epoch 53: saving model to model_checkpoints/cp.ckpt\n",
            "804/804 [==============================] - 1s 2ms/step - loss: 0.5304 - accuracy: 0.7407\n",
            "Epoch 54/100\n",
            "787/804 [============================>.] - ETA: 0s - loss: 0.5303 - accuracy: 0.7407\n",
            "Epoch 54: saving model to model_checkpoints/cp.ckpt\n",
            "804/804 [==============================] - 2s 2ms/step - loss: 0.5306 - accuracy: 0.7406\n",
            "Epoch 55/100\n",
            "803/804 [============================>.] - ETA: 0s - loss: 0.5304 - accuracy: 0.7406\n",
            "Epoch 55: saving model to model_checkpoints/cp.ckpt\n",
            "804/804 [==============================] - 2s 3ms/step - loss: 0.5303 - accuracy: 0.7407\n",
            "Epoch 56/100\n",
            "797/804 [============================>.] - ETA: 0s - loss: 0.5300 - accuracy: 0.7415\n",
            "Epoch 56: saving model to model_checkpoints/cp.ckpt\n",
            "804/804 [==============================] - 1s 2ms/step - loss: 0.5301 - accuracy: 0.7414\n",
            "Epoch 57/100\n",
            "780/804 [============================>.] - ETA: 0s - loss: 0.5305 - accuracy: 0.7414\n",
            "Epoch 57: saving model to model_checkpoints/cp.ckpt\n",
            "804/804 [==============================] - 1s 2ms/step - loss: 0.5302 - accuracy: 0.7415\n",
            "Epoch 58/100\n",
            "785/804 [============================>.] - ETA: 0s - loss: 0.5297 - accuracy: 0.7422\n",
            "Epoch 58: saving model to model_checkpoints/cp.ckpt\n",
            "804/804 [==============================] - 1s 2ms/step - loss: 0.5300 - accuracy: 0.7420\n",
            "Epoch 59/100\n",
            "801/804 [============================>.] - ETA: 0s - loss: 0.5299 - accuracy: 0.7417\n",
            "Epoch 59: saving model to model_checkpoints/cp.ckpt\n",
            "804/804 [==============================] - 1s 2ms/step - loss: 0.5299 - accuracy: 0.7415\n",
            "Epoch 60/100\n",
            "779/804 [============================>.] - ETA: 0s - loss: 0.5290 - accuracy: 0.7413\n",
            "Epoch 60: saving model to model_checkpoints/cp.ckpt\n",
            "804/804 [==============================] - 1s 2ms/step - loss: 0.5297 - accuracy: 0.7407\n",
            "Epoch 61/100\n",
            "803/804 [============================>.] - ETA: 0s - loss: 0.5295 - accuracy: 0.7412\n",
            "Epoch 61: saving model to model_checkpoints/cp.ckpt\n",
            "804/804 [==============================] - 2s 2ms/step - loss: 0.5295 - accuracy: 0.7412\n",
            "Epoch 62/100\n",
            "803/804 [============================>.] - ETA: 0s - loss: 0.5296 - accuracy: 0.7414\n",
            "Epoch 62: saving model to model_checkpoints/cp.ckpt\n",
            "804/804 [==============================] - 2s 2ms/step - loss: 0.5297 - accuracy: 0.7414\n",
            "Epoch 63/100\n",
            "794/804 [============================>.] - ETA: 0s - loss: 0.5297 - accuracy: 0.7409\n",
            "Epoch 63: saving model to model_checkpoints/cp.ckpt\n",
            "804/804 [==============================] - 3s 3ms/step - loss: 0.5295 - accuracy: 0.7410\n",
            "Epoch 64/100\n",
            "787/804 [============================>.] - ETA: 0s - loss: 0.5304 - accuracy: 0.7408\n",
            "Epoch 64: saving model to model_checkpoints/cp.ckpt\n",
            "804/804 [==============================] - 2s 2ms/step - loss: 0.5298 - accuracy: 0.7411\n",
            "Epoch 65/100\n",
            "796/804 [============================>.] - ETA: 0s - loss: 0.5298 - accuracy: 0.7417\n",
            "Epoch 65: saving model to model_checkpoints/cp.ckpt\n",
            "804/804 [==============================] - 1s 2ms/step - loss: 0.5296 - accuracy: 0.7418\n",
            "Epoch 66/100\n",
            "785/804 [============================>.] - ETA: 0s - loss: 0.5298 - accuracy: 0.7416\n",
            "Epoch 66: saving model to model_checkpoints/cp.ckpt\n",
            "804/804 [==============================] - 1s 2ms/step - loss: 0.5293 - accuracy: 0.7418\n",
            "Epoch 67/100\n",
            "785/804 [============================>.] - ETA: 0s - loss: 0.5296 - accuracy: 0.7407\n",
            "Epoch 67: saving model to model_checkpoints/cp.ckpt\n",
            "804/804 [==============================] - 1s 2ms/step - loss: 0.5291 - accuracy: 0.7414\n",
            "Epoch 68/100\n",
            "794/804 [============================>.] - ETA: 0s - loss: 0.5297 - accuracy: 0.7407\n",
            "Epoch 68: saving model to model_checkpoints/cp.ckpt\n",
            "804/804 [==============================] - 1s 2ms/step - loss: 0.5291 - accuracy: 0.7413\n",
            "Epoch 69/100\n",
            "778/804 [============================>.] - ETA: 0s - loss: 0.5286 - accuracy: 0.7419\n",
            "Epoch 69: saving model to model_checkpoints/cp.ckpt\n",
            "804/804 [==============================] - 1s 2ms/step - loss: 0.5286 - accuracy: 0.7421\n",
            "Epoch 70/100\n",
            "787/804 [============================>.] - ETA: 0s - loss: 0.5288 - accuracy: 0.7405\n",
            "Epoch 70: saving model to model_checkpoints/cp.ckpt\n",
            "804/804 [==============================] - 2s 2ms/step - loss: 0.5288 - accuracy: 0.7407\n",
            "Epoch 71/100\n",
            "798/804 [============================>.] - ETA: 0s - loss: 0.5289 - accuracy: 0.7411\n",
            "Epoch 71: saving model to model_checkpoints/cp.ckpt\n",
            "804/804 [==============================] - 2s 2ms/step - loss: 0.5285 - accuracy: 0.7413\n",
            "Epoch 72/100\n",
            "784/804 [============================>.] - ETA: 0s - loss: 0.5282 - accuracy: 0.7415\n",
            "Epoch 72: saving model to model_checkpoints/cp.ckpt\n",
            "804/804 [==============================] - 1s 2ms/step - loss: 0.5286 - accuracy: 0.7413\n",
            "Epoch 73/100\n",
            "797/804 [============================>.] - ETA: 0s - loss: 0.5291 - accuracy: 0.7410\n",
            "Epoch 73: saving model to model_checkpoints/cp.ckpt\n",
            "804/804 [==============================] - 2s 2ms/step - loss: 0.5289 - accuracy: 0.7412\n",
            "Epoch 74/100\n",
            "795/804 [============================>.] - ETA: 0s - loss: 0.5283 - accuracy: 0.7404\n",
            "Epoch 74: saving model to model_checkpoints/cp.ckpt\n",
            "804/804 [==============================] - 2s 3ms/step - loss: 0.5286 - accuracy: 0.7402\n",
            "Epoch 75/100\n",
            "792/804 [============================>.] - ETA: 0s - loss: 0.5281 - accuracy: 0.7422\n",
            "Epoch 75: saving model to model_checkpoints/cp.ckpt\n",
            "804/804 [==============================] - 2s 2ms/step - loss: 0.5283 - accuracy: 0.7420\n",
            "Epoch 76/100\n",
            "794/804 [============================>.] - ETA: 0s - loss: 0.5285 - accuracy: 0.7409\n",
            "Epoch 76: saving model to model_checkpoints/cp.ckpt\n",
            "804/804 [==============================] - 2s 3ms/step - loss: 0.5284 - accuracy: 0.7408\n",
            "Epoch 77/100\n",
            "786/804 [============================>.] - ETA: 0s - loss: 0.5284 - accuracy: 0.7419\n",
            "Epoch 77: saving model to model_checkpoints/cp.ckpt\n",
            "804/804 [==============================] - 2s 3ms/step - loss: 0.5286 - accuracy: 0.7416\n",
            "Epoch 78/100\n",
            "803/804 [============================>.] - ETA: 0s - loss: 0.5292 - accuracy: 0.7417\n",
            "Epoch 78: saving model to model_checkpoints/cp.ckpt\n",
            "804/804 [==============================] - 2s 3ms/step - loss: 0.5291 - accuracy: 0.7418\n",
            "Epoch 79/100\n",
            "800/804 [============================>.] - ETA: 0s - loss: 0.5281 - accuracy: 0.7419\n",
            "Epoch 79: saving model to model_checkpoints/cp.ckpt\n",
            "804/804 [==============================] - 2s 2ms/step - loss: 0.5280 - accuracy: 0.7420\n",
            "Epoch 80/100\n",
            "794/804 [============================>.] - ETA: 0s - loss: 0.5286 - accuracy: 0.7418\n",
            "Epoch 80: saving model to model_checkpoints/cp.ckpt\n",
            "804/804 [==============================] - 1s 2ms/step - loss: 0.5285 - accuracy: 0.7420\n",
            "Epoch 81/100\n",
            "791/804 [============================>.] - ETA: 0s - loss: 0.5280 - accuracy: 0.7423\n",
            "Epoch 81: saving model to model_checkpoints/cp.ckpt\n",
            "804/804 [==============================] - 1s 2ms/step - loss: 0.5280 - accuracy: 0.7420\n",
            "Epoch 82/100\n",
            "790/804 [============================>.] - ETA: 0s - loss: 0.5286 - accuracy: 0.7413\n",
            "Epoch 82: saving model to model_checkpoints/cp.ckpt\n",
            "804/804 [==============================] - 2s 2ms/step - loss: 0.5286 - accuracy: 0.7414\n",
            "Epoch 83/100\n",
            "793/804 [============================>.] - ETA: 0s - loss: 0.5271 - accuracy: 0.7418\n",
            "Epoch 83: saving model to model_checkpoints/cp.ckpt\n",
            "804/804 [==============================] - 1s 2ms/step - loss: 0.5276 - accuracy: 0.7412\n",
            "Epoch 84/100\n",
            "785/804 [============================>.] - ETA: 0s - loss: 0.5278 - accuracy: 0.7418\n",
            "Epoch 84: saving model to model_checkpoints/cp.ckpt\n",
            "804/804 [==============================] - 1s 2ms/step - loss: 0.5281 - accuracy: 0.7413\n",
            "Epoch 85/100\n",
            "789/804 [============================>.] - ETA: 0s - loss: 0.5281 - accuracy: 0.7425\n",
            "Epoch 85: saving model to model_checkpoints/cp.ckpt\n",
            "804/804 [==============================] - 2s 2ms/step - loss: 0.5279 - accuracy: 0.7424\n",
            "Epoch 86/100\n",
            "793/804 [============================>.] - ETA: 0s - loss: 0.5281 - accuracy: 0.7421\n",
            "Epoch 86: saving model to model_checkpoints/cp.ckpt\n",
            "804/804 [==============================] - 2s 3ms/step - loss: 0.5280 - accuracy: 0.7421\n",
            "Epoch 87/100\n",
            "804/804 [==============================] - ETA: 0s - loss: 0.5278 - accuracy: 0.7418\n",
            "Epoch 87: saving model to model_checkpoints/cp.ckpt\n",
            "804/804 [==============================] - 2s 2ms/step - loss: 0.5278 - accuracy: 0.7418\n",
            "Epoch 88/100\n",
            "796/804 [============================>.] - ETA: 0s - loss: 0.5280 - accuracy: 0.7416\n",
            "Epoch 88: saving model to model_checkpoints/cp.ckpt\n",
            "804/804 [==============================] - 1s 2ms/step - loss: 0.5275 - accuracy: 0.7420\n",
            "Epoch 89/100\n",
            "800/804 [============================>.] - ETA: 0s - loss: 0.5278 - accuracy: 0.7419\n",
            "Epoch 89: saving model to model_checkpoints/cp.ckpt\n",
            "804/804 [==============================] - 2s 2ms/step - loss: 0.5275 - accuracy: 0.7420\n",
            "Epoch 90/100\n",
            "791/804 [============================>.] - ETA: 0s - loss: 0.5272 - accuracy: 0.7427\n",
            "Epoch 90: saving model to model_checkpoints/cp.ckpt\n",
            "804/804 [==============================] - 2s 2ms/step - loss: 0.5276 - accuracy: 0.7421\n",
            "Epoch 91/100\n",
            "796/804 [============================>.] - ETA: 0s - loss: 0.5275 - accuracy: 0.7421\n",
            "Epoch 91: saving model to model_checkpoints/cp.ckpt\n",
            "804/804 [==============================] - 1s 2ms/step - loss: 0.5276 - accuracy: 0.7421\n",
            "Epoch 92/100\n",
            "801/804 [============================>.] - ETA: 0s - loss: 0.5271 - accuracy: 0.7425\n",
            "Epoch 92: saving model to model_checkpoints/cp.ckpt\n",
            "804/804 [==============================] - 1s 2ms/step - loss: 0.5272 - accuracy: 0.7425\n",
            "Epoch 93/100\n",
            "804/804 [==============================] - ETA: 0s - loss: 0.5275 - accuracy: 0.7419\n",
            "Epoch 93: saving model to model_checkpoints/cp.ckpt\n",
            "804/804 [==============================] - 2s 2ms/step - loss: 0.5275 - accuracy: 0.7419\n",
            "Epoch 94/100\n",
            "803/804 [============================>.] - ETA: 0s - loss: 0.5273 - accuracy: 0.7426\n",
            "Epoch 94: saving model to model_checkpoints/cp.ckpt\n",
            "804/804 [==============================] - 2s 3ms/step - loss: 0.5271 - accuracy: 0.7427\n",
            "Epoch 95/100\n",
            "786/804 [============================>.] - ETA: 0s - loss: 0.5262 - accuracy: 0.7430\n",
            "Epoch 95: saving model to model_checkpoints/cp.ckpt\n",
            "804/804 [==============================] - 2s 2ms/step - loss: 0.5275 - accuracy: 0.7422\n",
            "Epoch 96/100\n",
            "785/804 [============================>.] - ETA: 0s - loss: 0.5270 - accuracy: 0.7426\n",
            "Epoch 96: saving model to model_checkpoints/cp.ckpt\n",
            "804/804 [==============================] - 1s 2ms/step - loss: 0.5275 - accuracy: 0.7422\n",
            "Epoch 97/100\n",
            "794/804 [============================>.] - ETA: 0s - loss: 0.5264 - accuracy: 0.7428\n",
            "Epoch 97: saving model to model_checkpoints/cp.ckpt\n",
            "804/804 [==============================] - 1s 2ms/step - loss: 0.5270 - accuracy: 0.7424\n",
            "Epoch 98/100\n",
            "781/804 [============================>.] - ETA: 0s - loss: 0.5277 - accuracy: 0.7417\n",
            "Epoch 98: saving model to model_checkpoints/cp.ckpt\n",
            "804/804 [==============================] - 1s 2ms/step - loss: 0.5276 - accuracy: 0.7420\n",
            "Epoch 99/100\n",
            "800/804 [============================>.] - ETA: 0s - loss: 0.5270 - accuracy: 0.7420\n",
            "Epoch 99: saving model to model_checkpoints/cp.ckpt\n",
            "804/804 [==============================] - 2s 2ms/step - loss: 0.5271 - accuracy: 0.7418\n",
            "Epoch 100/100\n",
            "784/804 [============================>.] - ETA: 0s - loss: 0.5269 - accuracy: 0.7432\n",
            "Epoch 100: saving model to model_checkpoints/cp.ckpt\n",
            "804/804 [==============================] - 1s 2ms/step - loss: 0.5273 - accuracy: 0.7429\n"
          ]
        },
        {
          "output_type": "execute_result",
          "data": {
            "text/plain": [
              "<keras.callbacks.History at 0x7a9f2bba7610>"
            ]
          },
          "metadata": {},
          "execution_count": 34
        }
      ]
    },
    {
      "cell_type": "code",
      "source": [
        "# Evaluate the model\n",
        "model_loss, model_accuracy = nn.evaluate(X_test_scaled, y_test, verbose=2)\n",
        "print(f\"Loss: {model_loss}, Accuracy: {model_accuracy}\")"
      ],
      "metadata": {
        "colab": {
          "base_uri": "https://localhost:8080/"
        },
        "id": "U5PiNB42mj9s",
        "outputId": "3b92521c-c68d-43ad-98e1-03e94fce3f38"
      },
      "execution_count": 35,
      "outputs": [
        {
          "output_type": "stream",
          "name": "stdout",
          "text": [
            "268/268 - 2s - loss: 0.5669 - accuracy: 0.7303 - 2s/epoch - 7ms/step\n",
            "Loss: 0.5669334530830383, Accuracy: 0.7302623987197876\n"
          ]
        }
      ]
    },
    {
      "cell_type": "code",
      "source": [
        "# Adjust model architecture\n",
        "nn = Sequential()\n",
        "nn.add(Dense(units=100, activation='relu', input_dim=X_train_scaled.shape[1]))\n",
        "nn.add(Dense(units=50, activation='relu'))\n",
        "nn.add(Dense(units=25, activation='relu'))\n",
        "nn.add(Dense(units=1, activation='sigmoid'))"
      ],
      "metadata": {
        "id": "5ldwlNVUmob9"
      },
      "execution_count": 36,
      "outputs": []
    },
    {
      "cell_type": "code",
      "source": [
        "# Compile the model with adjusted learning rate\n",
        "optimizer = tf.keras.optimizers.Adam(learning_rate=0.001)\n",
        "nn.compile(loss='binary_crossentropy', optimizer=optimizer, metrics=['accuracy'])"
      ],
      "metadata": {
        "id": "QdTs21c1mtgk"
      },
      "execution_count": 37,
      "outputs": []
    },
    {
      "cell_type": "code",
      "source": [
        "# Train the model with more epochs and early stopping\n",
        "from tensorflow.keras.callbacks import EarlyStopping\n",
        "early_stopping = EarlyStopping(monitor='val_loss', patience=5, restore_best_weights=True)"
      ],
      "metadata": {
        "id": "CdL_I99Hmwx4"
      },
      "execution_count": 38,
      "outputs": []
    },
    {
      "cell_type": "code",
      "source": [
        "# Train the model with more epochs and early stopping\n",
        "history = nn.fit(X_train_scaled, y_train, epochs=100, batch_size=32, validation_split=0.1, callbacks=[early_stopping])"
      ],
      "metadata": {
        "colab": {
          "base_uri": "https://localhost:8080/"
        },
        "id": "FyxadHaTm0Re",
        "outputId": "1c821c4e-06f5-4a7f-f4b5-8c995ec5f54f"
      },
      "execution_count": 39,
      "outputs": [
        {
          "output_type": "stream",
          "name": "stdout",
          "text": [
            "Epoch 1/100\n",
            "724/724 [==============================] - 3s 2ms/step - loss: 0.5724 - accuracy: 0.7221 - val_loss: 0.5590 - val_accuracy: 0.7229\n",
            "Epoch 2/100\n",
            "724/724 [==============================] - 2s 2ms/step - loss: 0.5509 - accuracy: 0.7302 - val_loss: 0.5573 - val_accuracy: 0.7237\n",
            "Epoch 3/100\n",
            "724/724 [==============================] - 2s 3ms/step - loss: 0.5486 - accuracy: 0.7324 - val_loss: 0.5506 - val_accuracy: 0.7264\n",
            "Epoch 4/100\n",
            "724/724 [==============================] - 2s 3ms/step - loss: 0.5460 - accuracy: 0.7332 - val_loss: 0.5619 - val_accuracy: 0.7233\n",
            "Epoch 5/100\n",
            "724/724 [==============================] - 2s 2ms/step - loss: 0.5450 - accuracy: 0.7334 - val_loss: 0.5486 - val_accuracy: 0.7252\n",
            "Epoch 6/100\n",
            "724/724 [==============================] - 2s 2ms/step - loss: 0.5436 - accuracy: 0.7342 - val_loss: 0.5489 - val_accuracy: 0.7276\n",
            "Epoch 7/100\n",
            "724/724 [==============================] - 2s 2ms/step - loss: 0.5427 - accuracy: 0.7348 - val_loss: 0.5499 - val_accuracy: 0.7260\n",
            "Epoch 8/100\n",
            "724/724 [==============================] - 2s 2ms/step - loss: 0.5413 - accuracy: 0.7369 - val_loss: 0.5511 - val_accuracy: 0.7260\n",
            "Epoch 9/100\n",
            "724/724 [==============================] - 2s 2ms/step - loss: 0.5411 - accuracy: 0.7356 - val_loss: 0.5517 - val_accuracy: 0.7252\n",
            "Epoch 10/100\n",
            "724/724 [==============================] - 2s 2ms/step - loss: 0.5400 - accuracy: 0.7366 - val_loss: 0.5522 - val_accuracy: 0.7256\n"
          ]
        }
      ]
    },
    {
      "cell_type": "code",
      "source": [
        "# Train the model with more epochs and early stopping\n",
        "history = nn.fit(X_train_scaled, y_train, epochs=100, batch_size=32, validation_split=0.1, callbacks=[early_stopping])"
      ],
      "metadata": {
        "colab": {
          "base_uri": "https://localhost:8080/"
        },
        "id": "swthE7IZm8mY",
        "outputId": "bb22bf8b-ec9a-4f15-9840-22f7c184d95b"
      },
      "execution_count": 40,
      "outputs": [
        {
          "output_type": "stream",
          "name": "stdout",
          "text": [
            "Epoch 1/100\n",
            "724/724 [==============================] - 2s 2ms/step - loss: 0.5458 - accuracy: 0.7341 - val_loss: 0.5513 - val_accuracy: 0.7244\n",
            "Epoch 2/100\n",
            "724/724 [==============================] - 2s 2ms/step - loss: 0.5438 - accuracy: 0.7341 - val_loss: 0.5505 - val_accuracy: 0.7244\n",
            "Epoch 3/100\n",
            "724/724 [==============================] - 2s 2ms/step - loss: 0.5417 - accuracy: 0.7350 - val_loss: 0.5497 - val_accuracy: 0.7256\n",
            "Epoch 4/100\n",
            "724/724 [==============================] - 2s 3ms/step - loss: 0.5413 - accuracy: 0.7355 - val_loss: 0.5478 - val_accuracy: 0.7264\n",
            "Epoch 5/100\n",
            "724/724 [==============================] - 2s 3ms/step - loss: 0.5398 - accuracy: 0.7375 - val_loss: 0.5583 - val_accuracy: 0.7132\n",
            "Epoch 6/100\n",
            "724/724 [==============================] - 2s 2ms/step - loss: 0.5388 - accuracy: 0.7376 - val_loss: 0.5484 - val_accuracy: 0.7248\n",
            "Epoch 7/100\n",
            "724/724 [==============================] - 2s 3ms/step - loss: 0.5390 - accuracy: 0.7377 - val_loss: 0.5556 - val_accuracy: 0.7256\n",
            "Epoch 8/100\n",
            "724/724 [==============================] - 2s 3ms/step - loss: 0.5382 - accuracy: 0.7381 - val_loss: 0.5507 - val_accuracy: 0.7272\n",
            "Epoch 9/100\n",
            "724/724 [==============================] - 2s 2ms/step - loss: 0.5378 - accuracy: 0.7374 - val_loss: 0.5520 - val_accuracy: 0.7248\n"
          ]
        }
      ]
    },
    {
      "cell_type": "code",
      "execution_count": 47,
      "metadata": {
        "id": "eG3OYnOeYoZr"
      },
      "outputs": [],
      "source": [
        "# Export our model to HDF5 file\n",
        "nn.save('HDF5 files/Alphabetsoupcharity_optimization1.ipynb.h5')"
      ]
    }
  ]
}